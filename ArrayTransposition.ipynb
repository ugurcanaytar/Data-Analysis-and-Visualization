{
 "cells": [
  {
   "cell_type": "code",
   "execution_count": 2,
   "metadata": {
    "collapsed": true
   },
   "outputs": [],
   "source": [
    "import numpy as np"
   ]
  },
  {
   "cell_type": "code",
   "execution_count": 3,
   "metadata": {
    "collapsed": true
   },
   "outputs": [],
   "source": [
    "arr = np.arange(50).reshape((10,5))"
   ]
  },
  {
   "cell_type": "code",
   "execution_count": 4,
   "metadata": {
    "collapsed": false
   },
   "outputs": [
    {
     "data": {
      "text/plain": [
       "array([[ 0,  1,  2,  3,  4],\n",
       "       [ 5,  6,  7,  8,  9],\n",
       "       [10, 11, 12, 13, 14],\n",
       "       [15, 16, 17, 18, 19],\n",
       "       [20, 21, 22, 23, 24],\n",
       "       [25, 26, 27, 28, 29],\n",
       "       [30, 31, 32, 33, 34],\n",
       "       [35, 36, 37, 38, 39],\n",
       "       [40, 41, 42, 43, 44],\n",
       "       [45, 46, 47, 48, 49]])"
      ]
     },
     "execution_count": 4,
     "metadata": {},
     "output_type": "execute_result"
    }
   ],
   "source": [
    "arr"
   ]
  },
  {
   "cell_type": "code",
   "execution_count": 5,
   "metadata": {
    "collapsed": false
   },
   "outputs": [
    {
     "data": {
      "text/plain": [
       "array([[ 0,  5, 10, 15, 20, 25, 30, 35, 40, 45],\n",
       "       [ 1,  6, 11, 16, 21, 26, 31, 36, 41, 46],\n",
       "       [ 2,  7, 12, 17, 22, 27, 32, 37, 42, 47],\n",
       "       [ 3,  8, 13, 18, 23, 28, 33, 38, 43, 48],\n",
       "       [ 4,  9, 14, 19, 24, 29, 34, 39, 44, 49]])"
      ]
     },
     "execution_count": 5,
     "metadata": {},
     "output_type": "execute_result"
    }
   ],
   "source": [
    "arr.T"
   ]
  },
  {
   "cell_type": "code",
   "execution_count": 6,
   "metadata": {
    "collapsed": false
   },
   "outputs": [
    {
     "data": {
      "text/plain": [
       "array([[7125, 7350, 7575, 7800, 8025],\n",
       "       [7350, 7585, 7820, 8055, 8290],\n",
       "       [7575, 7820, 8065, 8310, 8555],\n",
       "       [7800, 8055, 8310, 8565, 8820],\n",
       "       [8025, 8290, 8555, 8820, 9085]])"
      ]
     },
     "execution_count": 6,
     "metadata": {},
     "output_type": "execute_result"
    }
   ],
   "source": [
    "np.dot(arr.T, arr)"
   ]
  },
  {
   "cell_type": "code",
   "execution_count": 8,
   "metadata": {
    "collapsed": false
   },
   "outputs": [],
   "source": [
    "arr3d = np.arange(50)"
   ]
  },
  {
   "cell_type": "code",
   "execution_count": 10,
   "metadata": {
    "collapsed": false
   },
   "outputs": [
    {
     "ename": "ValueError",
     "evalue": "total size of new array must be unchanged",
     "output_type": "error",
     "traceback": [
      "\u001b[0;31m---------------------------------------------------------------------------\u001b[0m",
      "\u001b[0;31mValueError\u001b[0m                                Traceback (most recent call last)",
      "\u001b[0;32m<ipython-input-10-de520f3c7ec7>\u001b[0m in \u001b[0;36m<module>\u001b[0;34m()\u001b[0m\n\u001b[0;32m----> 1\u001b[0;31m \u001b[0marr3d\u001b[0m\u001b[0;34m.\u001b[0m\u001b[0mreshape\u001b[0m\u001b[0;34m(\u001b[0m\u001b[0;36m3\u001b[0m\u001b[0;34m,\u001b[0m\u001b[0;36m5\u001b[0m\u001b[0;34m,\u001b[0m\u001b[0;36m2\u001b[0m\u001b[0;34m)\u001b[0m\u001b[0;34m\u001b[0m\u001b[0m\n\u001b[0m",
      "\u001b[0;31mValueError\u001b[0m: total size of new array must be unchanged"
     ]
    }
   ],
   "source": [
    "arr3d.reshape(,7.,2)"
   ]
  },
  {
   "cell_type": "code",
   "execution_count": 25,
   "metadata": {
    "collapsed": false
   },
   "outputs": [
    {
     "data": {
      "text/plain": [
       "array([[[ 0, 10, 20, 30, 40],\n",
       "        [ 2, 12, 22, 32, 42],\n",
       "        [ 4, 14, 24, 34, 44],\n",
       "        [ 6, 16, 26, 36, 46],\n",
       "        [ 8, 18, 28, 38, 48]],\n",
       "\n",
       "       [[ 1, 11, 21, 31, 41],\n",
       "        [ 3, 13, 23, 33, 43],\n",
       "        [ 5, 15, 25, 35, 45],\n",
       "        [ 7, 17, 27, 37, 47],\n",
       "        [ 9, 19, 29, 39, 49]]])"
      ]
     },
     "execution_count": 25,
     "metadata": {},
     "output_type": "execute_result"
    }
   ],
   "source": [
    "arr3d.T #transpose.(2,1,0), normal = (0,1,2)"
   ]
  },
  {
   "cell_type": "code",
   "execution_count": 46,
   "metadata": {
    "collapsed": false
   },
   "outputs": [
    {
     "data": {
      "text/plain": [
       "array([[[ 0, 10, 20, 30, 40],\n",
       "        [ 1, 11, 21, 31, 41]],\n",
       "\n",
       "       [[ 2, 12, 22, 32, 42],\n",
       "        [ 3, 13, 23, 33, 43]],\n",
       "\n",
       "       [[ 4, 14, 24, 34, 44],\n",
       "        [ 5, 15, 25, 35, 45]],\n",
       "\n",
       "       [[ 6, 16, 26, 36, 46],\n",
       "        [ 7, 17, 27, 37, 47]],\n",
       "\n",
       "       [[ 8, 18, 28, 38, 48],\n",
       "        [ 9, 19, 29, 39, 49]]])"
      ]
     },
     "execution_count": 46,
     "metadata": {},
     "output_type": "execute_result"
    }
   ],
   "source": [
    "arr3d.transpose((1,2,0))"
   ]
  },
  {
   "cell_type": "code",
   "execution_count": 44,
   "metadata": {
    "collapsed": false
   },
   "outputs": [
    {
     "data": {
      "text/plain": [
       "array([[[ 0,  2,  4,  6,  8],\n",
       "        [ 1,  3,  5,  7,  9]],\n",
       "\n",
       "       [[10, 12, 14, 16, 18],\n",
       "        [11, 13, 15, 17, 19]],\n",
       "\n",
       "       [[20, 22, 24, 26, 28],\n",
       "        [21, 23, 25, 27, 29]],\n",
       "\n",
       "       [[30, 32, 34, 36, 38],\n",
       "        [31, 33, 35, 37, 39]],\n",
       "\n",
       "       [[40, 42, 44, 46, 48],\n",
       "        [41, 43, 45, 47, 49]]])"
      ]
     },
     "execution_count": 44,
     "metadata": {},
     "output_type": "execute_result"
    }
   ],
   "source": [
    "arr3d.transpose((0,2,1))"
   ]
  },
  {
   "cell_type": "code",
   "execution_count": 34,
   "metadata": {
    "collapsed": true
   },
   "outputs": [],
   "source": [
    "arr = np.array([[1,2,3]])"
   ]
  },
  {
   "cell_type": "code",
   "execution_count": 36,
   "metadata": {
    "collapsed": false
   },
   "outputs": [
    {
     "data": {
      "text/plain": [
       "array([[1, 2, 3]])"
      ]
     },
     "execution_count": 36,
     "metadata": {},
     "output_type": "execute_result"
    }
   ],
   "source": [
    "arr"
   ]
  },
  {
   "cell_type": "code",
   "execution_count": 53,
   "metadata": {
    "collapsed": false
   },
   "outputs": [
    {
     "data": {
      "text/plain": [
       "array([[1],\n",
       "       [2],\n",
       "       [3]])"
      ]
     },
     "execution_count": 53,
     "metadata": {},
     "output_type": "execute_result"
    }
   ],
   "source": [
    "arr.swapaxes(1,0)"
   ]
  }
 ],
 "metadata": {
  "anaconda-cloud": {},
  "kernelspec": {
   "display_name": "Python [Root]",
   "language": "python",
   "name": "Python [Root]"
  },
  "language_info": {
   "codemirror_mode": {
    "name": "ipython",
    "version": 2
   },
   "file_extension": ".py",
   "mimetype": "text/x-python",
   "name": "python",
   "nbconvert_exporter": "python",
   "pygments_lexer": "ipython2",
   "version": "2.7.12"
  }
 },
 "nbformat": 4,
 "nbformat_minor": 0
}
