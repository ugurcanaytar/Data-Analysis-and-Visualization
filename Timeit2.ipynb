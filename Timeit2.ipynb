{
 "cells": [
  {
   "cell_type": "code",
   "execution_count": 4,
   "metadata": {
    "collapsed": true
   },
   "outputs": [],
   "source": [
    "def method1():\n",
    "    l = []\n",
    "    for n in xrange(10000):\n",
    "        l += [n]\n",
    "        \n",
    "def method2():\n",
    "    l = []\n",
    "    for n in xrange(10000):\n",
    "        l.append(n)\n",
    "        \n",
    "def method3():\n",
    "    l = [n for n in xrange(10000)]\n",
    "    \n",
    "def method4():\n",
    "    l = range(10000)"
   ]
  },
  {
   "cell_type": "code",
   "execution_count": 5,
   "metadata": {
    "collapsed": false
   },
   "outputs": [
    {
     "name": "stdout",
     "output_type": "stream",
     "text": [
      "100 loops, best of 3: 2.77 ms per loop\n",
      "100 loops, best of 3: 1.92 ms per loop\n",
      "1000 loops, best of 3: 1.05 ms per loop\n",
      "10000 loops, best of 3: 74.5 µs per loop\n"
     ]
    }
   ],
   "source": [
    "%timeit method1()\n",
    "%timeit method2()\n",
    "%timeit method3()\n",
    "%timeit method4()"
   ]
  },
  {
   "cell_type": "code",
   "execution_count": null,
   "metadata": {
    "collapsed": true
   },
   "outputs": [],
   "source": []
  }
 ],
 "metadata": {
  "anaconda-cloud": {},
  "kernelspec": {
   "display_name": "Python [Root]",
   "language": "python",
   "name": "Python [Root]"
  },
  "language_info": {
   "codemirror_mode": {
    "name": "ipython",
    "version": 2
   },
   "file_extension": ".py",
   "mimetype": "text/x-python",
   "name": "python",
   "nbconvert_exporter": "python",
   "pygments_lexer": "ipython2",
   "version": "2.7.12"
  }
 },
 "nbformat": 4,
 "nbformat_minor": 0
}
