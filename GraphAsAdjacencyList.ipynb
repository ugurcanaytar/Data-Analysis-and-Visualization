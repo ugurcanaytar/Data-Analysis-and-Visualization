{
 "cells": [
  {
   "cell_type": "code",
   "execution_count": 2,
   "metadata": {
    "collapsed": true
   },
   "outputs": [],
   "source": [
    "class Vertex(object):\n",
    "    \n",
    "    def __init__(self, key):\n",
    "        self.id = key\n",
    "        self.connectedTo = {}\n",
    "    \n",
    "    def addNeighbor(self, nbr, weight=0):\n",
    "        self.connectedTo[nbr] = weight\n",
    "    \n",
    "    def getConnections(self):\n",
    "        return self.connectedTo.keys()\n",
    "    \n",
    "    def getId(self):\n",
    "        return self.id\n",
    "\n",
    "    def getWeight(self, nbr):\n",
    "        return self.connectedTo[nbr]\n",
    "\n",
    "    def __str__(self):\n",
    "        return str(self.id)+ ' connected to: ' + str([x.id for x in self.connectedTo])"
   ]
  },
  {
   "cell_type": "code",
   "execution_count": 10,
   "metadata": {
    "collapsed": true
   },
   "outputs": [],
   "source": [
    "class Graph(object):\n",
    "    \n",
    "    def __init__(self):\n",
    "        self.vertList = {}\n",
    "        self.numVertices = 0 # vertex tracker counter.\n",
    "        \n",
    "    \n",
    "    def addVertex(self, key):\n",
    "        self.numVertices += 1\n",
    "        newVertex = Vertex(key)\n",
    "        self.vertList[key] = newVertex\n",
    "        return newVertex\n",
    "    \n",
    "    def getVertex(self, n):\n",
    "        if n in self.vertList:\n",
    "            return self.vertList[n]\n",
    "        else:\n",
    "            return None\n",
    "    \n",
    "    def addEdge(self, fromV, toV, weight=0):\n",
    "        if fromV not in self.vertList:\n",
    "            nv = self.addVertex(fromV)\n",
    "        if toV not in self.vertList:\n",
    "            nv = self.addVertex(toV)\n",
    "        \n",
    "        self.vertList[fromV].addNeighbor(self.vertList[toV], weight)\n",
    "        \n",
    "    def getVertices(self):\n",
    "        return self.vertList.keys()\n",
    "\n",
    "    def __iter__(self):\n",
    "        return iter(self.vertList.values()) #\"for\" statement will iterate over this vertList.\n",
    "    \n",
    "    def __contains__(self,n):  #allow us to use \"in\" in return block.\n",
    "        return n in self.vertList"
   ]
  },
  {
   "cell_type": "code",
   "execution_count": 11,
   "metadata": {
    "collapsed": true
   },
   "outputs": [],
   "source": [
    "g = Graph()"
   ]
  },
  {
   "cell_type": "code",
   "execution_count": 12,
   "metadata": {
    "collapsed": true
   },
   "outputs": [],
   "source": [
    "for i in range(6):\n",
    "    g.addVertex(i)"
   ]
  },
  {
   "cell_type": "code",
   "execution_count": 13,
   "metadata": {
    "collapsed": false
   },
   "outputs": [
    {
     "data": {
      "text/plain": [
       "{0: <__main__.Vertex at 0x103e40190>,\n",
       " 1: <__main__.Vertex at 0x103e401d0>,\n",
       " 2: <__main__.Vertex at 0x103e40410>,\n",
       " 3: <__main__.Vertex at 0x103e40450>,\n",
       " 4: <__main__.Vertex at 0x103e40590>,\n",
       " 5: <__main__.Vertex at 0x103e40490>}"
      ]
     },
     "execution_count": 13,
     "metadata": {},
     "output_type": "execute_result"
    }
   ],
   "source": [
    "g.vertList"
   ]
  },
  {
   "cell_type": "code",
   "execution_count": 14,
   "metadata": {
    "collapsed": false
   },
   "outputs": [],
   "source": [
    "g.addEdge(0, 1, 2)"
   ]
  },
  {
   "cell_type": "code",
   "execution_count": 15,
   "metadata": {
    "collapsed": false
   },
   "outputs": [
    {
     "data": {
      "text/plain": [
       "{0: <__main__.Vertex at 0x103e40190>,\n",
       " 1: <__main__.Vertex at 0x103e401d0>,\n",
       " 2: <__main__.Vertex at 0x103e40410>,\n",
       " 3: <__main__.Vertex at 0x103e40450>,\n",
       " 4: <__main__.Vertex at 0x103e40590>,\n",
       " 5: <__main__.Vertex at 0x103e40490>}"
      ]
     },
     "execution_count": 15,
     "metadata": {},
     "output_type": "execute_result"
    }
   ],
   "source": [
    "g.vertList"
   ]
  },
  {
   "cell_type": "code",
   "execution_count": 16,
   "metadata": {
    "collapsed": false
   },
   "outputs": [
    {
     "name": "stdout",
     "output_type": "stream",
     "text": [
      "0\n"
     ]
    },
    {
     "ename": "AttributeError",
     "evalue": "'int' object has no attribute 'getConnections'",
     "output_type": "error",
     "traceback": [
      "\u001b[0;31m---------------------------------------------------------------------------\u001b[0m",
      "\u001b[0;31mAttributeError\u001b[0m                            Traceback (most recent call last)",
      "\u001b[0;32m<ipython-input-16-f3ef46c717c8>\u001b[0m in \u001b[0;36m<module>\u001b[0;34m()\u001b[0m\n\u001b[1;32m      1\u001b[0m \u001b[0;32mfor\u001b[0m \u001b[0mvertex\u001b[0m \u001b[0;32min\u001b[0m \u001b[0mg\u001b[0m\u001b[0;34m:\u001b[0m \u001b[0;31m# \"in g\" -> Graph is iterable -> by __iter__ function.\u001b[0m\u001b[0;34m\u001b[0m\u001b[0m\n\u001b[1;32m      2\u001b[0m     \u001b[0;32mprint\u001b[0m \u001b[0mvertex\u001b[0m\u001b[0;34m\u001b[0m\u001b[0m\n\u001b[0;32m----> 3\u001b[0;31m     \u001b[0;32mprint\u001b[0m \u001b[0mvertex\u001b[0m\u001b[0;34m.\u001b[0m\u001b[0mgetConnections\u001b[0m\u001b[0;34m(\u001b[0m\u001b[0;34m)\u001b[0m\u001b[0;34m\u001b[0m\u001b[0m\n\u001b[0m",
      "\u001b[0;31mAttributeError\u001b[0m: 'int' object has no attribute 'getConnections'"
     ]
    }
   ],
   "source": [
    "for vertex in g: # \"in g\" -> Graph is iterable -> by __iter__ function.\n",
    "    print vertex\n",
    "    print vertex.getConnections()"
   ]
  },
  {
   "cell_type": "code",
   "execution_count": null,
   "metadata": {
    "collapsed": true
   },
   "outputs": [],
   "source": []
  },
  {
   "cell_type": "code",
   "execution_count": null,
   "metadata": {
    "collapsed": true
   },
   "outputs": [],
   "source": []
  }
 ],
 "metadata": {
  "kernelspec": {
   "display_name": "Python [Root]",
   "language": "python",
   "name": "Python [Root]"
  },
  "language_info": {
   "codemirror_mode": {
    "name": "ipython",
    "version": 2
   },
   "file_extension": ".py",
   "mimetype": "text/x-python",
   "name": "python",
   "nbconvert_exporter": "python",
   "pygments_lexer": "ipython2",
   "version": "2.7.12"
  }
 },
 "nbformat": 4,
 "nbformat_minor": 0
}
