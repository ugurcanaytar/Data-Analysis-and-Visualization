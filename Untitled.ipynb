{
 "cells": [
  {
   "cell_type": "code",
   "execution_count": 58,
   "metadata": {
    "collapsed": false
   },
   "outputs": [],
   "source": [
    "import math\n",
    "def caesarBoxCipherEncoding(inputString):\n",
    "    k = math.sqrt(len(inputString))\n",
    "    ff = []\n",
    "    for z in range(int(k)):\n",
    "        ff.append([])\n",
    "    \n",
    "    m = 0\n",
    "    counter = 0\n",
    "    for z in inputString:\n",
    "        if counter < k:\n",
    "            ff[m].append(z)\n",
    "            counter += 1\n",
    "            m += 1\n",
    "        else:\n",
    "            m = 0\n",
    "            counter = 0\n",
    "            ff[m].append(z)\n",
    "            counter += 1\n",
    "            m += 1\n",
    "    \n",
    "    print ff\n",
    "    str = ''\n",
    "    counter = 0\n",
    "    for i in range(len(ff)):\n",
    "        for k in range(len(ff[i])):\n",
    "            str += ff[i][k]\n",
    "    \n",
    "    return str\n",
    "    "
   ]
  },
  {
   "cell_type": "code",
   "execution_count": 59,
   "metadata": {
    "collapsed": false
   },
   "outputs": [
    {
     "name": "stdout",
     "output_type": "stream",
     "text": [
      "[['a', 'e', 'a'], [' ', 's', 'g'], ['m', 's', 'e']]\n"
     ]
    },
    {
     "data": {
      "text/plain": [
       "'aea sgmse'"
      ]
     },
     "execution_count": 59,
     "metadata": {},
     "output_type": "execute_result"
    }
   ],
   "source": [
    "caesarBoxCipherEncoding(\"a message\")"
   ]
  },
  {
   "cell_type": "code",
   "execution_count": null,
   "metadata": {
    "collapsed": true
   },
   "outputs": [],
   "source": []
  }
 ],
 "metadata": {
  "anaconda-cloud": {},
  "kernelspec": {
   "display_name": "Python [Root]",
   "language": "python",
   "name": "Python [Root]"
  },
  "language_info": {
   "codemirror_mode": {
    "name": "ipython",
    "version": 2
   },
   "file_extension": ".py",
   "mimetype": "text/x-python",
   "name": "python",
   "nbconvert_exporter": "python",
   "pygments_lexer": "ipython2",
   "version": "2.7.12"
  }
 },
 "nbformat": 4,
 "nbformat_minor": 0
}
