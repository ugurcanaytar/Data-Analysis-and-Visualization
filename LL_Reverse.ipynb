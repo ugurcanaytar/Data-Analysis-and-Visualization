{
 "cells": [
  {
   "cell_type": "code",
   "execution_count": 81,
   "metadata": {
    "collapsed": true
   },
   "outputs": [],
   "source": [
    "class Node(object):\n",
    "    \n",
    "    def __init__(self,value):\n",
    "        \n",
    "        self.value = value\n",
    "        self.nextnode = None\n",
    "    \n",
    "    def __str__(self):\n",
    "        str_k = ''\n",
    "        str_k += str(self.value)\n",
    "        return str_k"
   ]
  },
  {
   "cell_type": "code",
   "execution_count": 91,
   "metadata": {
    "collapsed": true
   },
   "outputs": [],
   "source": [
    "def reverse(head):\n",
    "    \n",
    "    # Set up current,previous, and next nodes\n",
    "    current = head\n",
    "    previous = None\n",
    "    nextnode = None\n",
    "\n",
    "    # until we have gone through to the end of the list\n",
    "    while current:\n",
    "        \n",
    "        # Make sure to copy the current nodes next node to a variable next_node\n",
    "        # Before overwriting as the previous node for reversal\n",
    "        nextnode = current.nextnode\n",
    "        print '1.nextnode :{x}'.format(x = nextnode)\n",
    "        # Reverse the pointer ot the next_node\n",
    "        \n",
    "        print '1.current.nextnode :{x}'.format(x = current.nextnode)\n",
    "        print '1.previous :{x}'.format(x = previous)\n",
    "        current.nextnode = previous\n",
    "        print '2.current.nextnode :{x}'.format(x = current.nextnode)\n",
    "\n",
    "        # Go one forward in the list\n",
    "        previous = current\n",
    "        print '2.previous :{x}'.format(x = previous)\n",
    "        \n",
    "        print '2.nextnode :{x}'.format(x = nextnode)\n",
    "        current = nextnode\n",
    "        print 'current :{x}'.format(x = nextnode)\n",
    "    \n",
    "        print '--End of iteration--'\n",
    "        \n",
    "    \n",
    "    print '--End of loop'\n",
    "        \n",
    "    return previous"
   ]
  },
  {
   "cell_type": "code",
   "execution_count": 92,
   "metadata": {
    "collapsed": true
   },
   "outputs": [],
   "source": [
    "# Create a list of 4 nodes\n",
    "a = Node(1)\n",
    "b = Node(2)\n",
    "c = Node(3)\n",
    "d = Node(4)\n",
    "\n",
    "# Set up order a,b,c,d with values 1,2,3,4\n",
    "a.nextnode = b\n",
    "b.nextnode = c\n",
    "c.nextnode = d"
   ]
  },
  {
   "cell_type": "code",
   "execution_count": 93,
   "metadata": {
    "collapsed": false
   },
   "outputs": [
    {
     "name": "stdout",
     "output_type": "stream",
     "text": [
      "2\n",
      "3\n",
      "4\n"
     ]
    }
   ],
   "source": [
    "print a.nextnode.value\n",
    "print b.nextnode.value\n",
    "print c.nextnode.value"
   ]
  },
  {
   "cell_type": "code",
   "execution_count": 94,
   "metadata": {
    "collapsed": false
   },
   "outputs": [
    {
     "name": "stdout",
     "output_type": "stream",
     "text": [
      "1.nextnode :2\n",
      "1.current.nextnode :2\n",
      "1.previous :None\n",
      "2.current.nextnode :None\n",
      "2.previous :1\n",
      "2.nextnode :2\n",
      "current :2\n",
      "--End of iteration--\n",
      "1.nextnode :3\n",
      "1.current.nextnode :3\n",
      "1.previous :1\n",
      "2.current.nextnode :1\n",
      "2.previous :2\n",
      "2.nextnode :3\n",
      "current :3\n",
      "--End of iteration--\n",
      "1.nextnode :4\n",
      "1.current.nextnode :4\n",
      "1.previous :2\n",
      "2.current.nextnode :2\n",
      "2.previous :3\n",
      "2.nextnode :4\n",
      "current :4\n",
      "--End of iteration--\n",
      "1.nextnode :None\n",
      "1.current.nextnode :None\n",
      "1.previous :3\n",
      "2.current.nextnode :3\n",
      "2.previous :4\n",
      "2.nextnode :None\n",
      "current :None\n",
      "--End of iteration--\n",
      "--End of loop\n"
     ]
    },
    {
     "data": {
      "text/plain": [
       "<__main__.Node at 0x103fc3950>"
      ]
     },
     "execution_count": 94,
     "metadata": {},
     "output_type": "execute_result"
    }
   ],
   "source": [
    "reverse(a)"
   ]
  },
  {
   "cell_type": "code",
   "execution_count": 86,
   "metadata": {
    "collapsed": false
   },
   "outputs": [
    {
     "name": "stdout",
     "output_type": "stream",
     "text": [
      "3\n",
      "2\n",
      "1\n"
     ]
    }
   ],
   "source": [
    "print d.nextnode.value\n",
    "print c.nextnode.value\n",
    "print b.nextnode.value"
   ]
  },
  {
   "cell_type": "code",
   "execution_count": null,
   "metadata": {
    "collapsed": true
   },
   "outputs": [],
   "source": []
  }
 ],
 "metadata": {
  "kernelspec": {
   "display_name": "Python [Root]",
   "language": "python",
   "name": "Python [Root]"
  },
  "language_info": {
   "codemirror_mode": {
    "name": "ipython",
    "version": 2
   },
   "file_extension": ".py",
   "mimetype": "text/x-python",
   "name": "python",
   "nbconvert_exporter": "python",
   "pygments_lexer": "ipython2",
   "version": "2.7.12"
  }
 },
 "nbformat": 4,
 "nbformat_minor": 0
}
