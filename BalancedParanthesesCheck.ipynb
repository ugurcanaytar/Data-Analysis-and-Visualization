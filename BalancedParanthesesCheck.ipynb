{
 "cells": [
  {
   "cell_type": "code",
   "execution_count": 24,
   "metadata": {
    "collapsed": true
   },
   "outputs": [],
   "source": [
    "def balance_check(s):\n",
    "    \n",
    "    stack = []\n",
    "    k = list(s)\n",
    "    ent = []\n",
    "    checker = True\n",
    "    if len(s) == 0:\n",
    "        return True\n",
    "    elif len(s) == 1:\n",
    "        return False\n",
    "    else:\n",
    "        for item in k:\n",
    "            if item == '{' or item == '(' or item == '[':\n",
    "                stack.append(item)\n",
    "                checker = False\n",
    "            else:\n",
    "                if item == '}':\n",
    "                    if stack[len(stack)-1] == '{':\n",
    "                        stack.pop()\n",
    "                        checker = True\n",
    "                    else:\n",
    "                        ent.append(item)\n",
    "                        checker = False\n",
    "                elif item == ')':\n",
    "                    if stack[len(stack)-1] == '(':\n",
    "                        stack.pop()\n",
    "                        checker  = True\n",
    "                    else:\n",
    "                        ent.append(item)\n",
    "                        checker = False\n",
    "                else:\n",
    "                    if stack[len(stack)-1] == '[':\n",
    "                        stack.pop()\n",
    "                        checker = True\n",
    "                    else:\n",
    "                        ent.append(item)\n",
    "                        checker = False\n",
    "                        \n",
    "    if len(ent) != 0:\n",
    "        checker = False    \n",
    "    return checker "
   ]
  },
  {
   "cell_type": "code",
   "execution_count": 25,
   "metadata": {
    "collapsed": false
   },
   "outputs": [
    {
     "name": "stdout",
     "output_type": "stream",
     "text": [
      "ALL TEST CASES PASSED\n"
     ]
    }
   ],
   "source": [
    "from nose.tools import assert_equal\n",
    "\n",
    "class TestBalanceCheck(object):\n",
    "    \n",
    "    def test(self,sol):\n",
    "        assert_equal(sol('[](){([[[]]])}('),False)\n",
    "        assert_equal(sol('[{{{(())}}}]((()))'),True)\n",
    "        assert_equal(sol('[[[]])]'),False)\n",
    "        print 'ALL TEST CASES PASSED'\n",
    "        \n",
    "# Run Tests\n",
    "\n",
    "t = TestBalanceCheck()\n",
    "t.test(balance_check)"
   ]
  },
  {
   "cell_type": "code",
   "execution_count": null,
   "metadata": {
    "collapsed": true
   },
   "outputs": [],
   "source": []
  }
 ],
 "metadata": {
  "anaconda-cloud": {},
  "kernelspec": {
   "display_name": "Python [Root]",
   "language": "python",
   "name": "Python [Root]"
  },
  "language_info": {
   "codemirror_mode": {
    "name": "ipython",
    "version": 2
   },
   "file_extension": ".py",
   "mimetype": "text/x-python",
   "name": "python",
   "nbconvert_exporter": "python",
   "pygments_lexer": "ipython2",
   "version": "2.7.12"
  }
 },
 "nbformat": 4,
 "nbformat_minor": 0
}
