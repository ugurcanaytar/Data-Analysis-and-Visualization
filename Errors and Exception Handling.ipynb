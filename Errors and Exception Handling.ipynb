{
 "cells": [
  {
   "cell_type": "code",
   "execution_count": 1,
   "metadata": {
    "collapsed": false
   },
   "outputs": [
    {
     "name": "stdout",
     "output_type": "stream",
     "text": [
      "There was a type error!\n",
      "Finally this was printed\n"
     ]
    }
   ],
   "source": [
    "try:\n",
    "    2 + 's' #outputs typeerror\n",
    "except TypeError: #if write except: (all exceptions included)\n",
    "    print \"There was a type error!\"\n",
    "finally:\n",
    "    print \"Finally this was printed\""
   ]
  },
  {
   "cell_type": "code",
   "execution_count": 2,
   "metadata": {
    "collapsed": false
   },
   "outputs": [
    {
     "name": "stdout",
     "output_type": "stream",
     "text": [
      "Error in writing to the file\n",
      "Ehehe\n"
     ]
    }
   ],
   "source": [
    "try:\n",
    "    f = open('testfile123123', 'r')\n",
    "    f.write('Test write this')\n",
    "except: \n",
    "    print 'Error in writing to the file'\n",
    "else: # you can use else. (Will execute if only error not occur)\n",
    "    print 'File write was a success'\n",
    "finally:\n",
    "    print 'Ehehe'"
   ]
  },
  {
   "cell_type": "code",
   "execution_count": 3,
   "metadata": {
    "collapsed": true
   },
   "outputs": [],
   "source": [
    "def askint():\n",
    "    try:\n",
    "        val = int(raw_input('Enter an integer: '))\n",
    "    except:\n",
    "        print 'Looks like you did not enter an integer.'\n",
    "        val = int(raw_input('Try again: '))\n",
    "    finally:\n",
    "        print 'Finally block executed'\n",
    "    print val"
   ]
  },
  {
   "cell_type": "code",
   "execution_count": 4,
   "metadata": {
    "collapsed": true
   },
   "outputs": [],
   "source": [
    "def askint2():\n",
    "    while True:\n",
    "        try:\n",
    "            val = int(raw_input('Enter an integer: '))\n",
    "        except:\n",
    "            print \"You didn't enter an integer.\"\n",
    "            continue\n",
    "        else:\n",
    "            print 'Correct that is an integer.'\n",
    "            break\n",
    "        finally:\n",
    "            print 'Finally block executed'\n",
    "        print val"
   ]
  },
  {
   "cell_type": "code",
   "execution_count": 5,
   "metadata": {
    "collapsed": false
   },
   "outputs": [
    {
     "name": "stdout",
     "output_type": "stream",
     "text": [
      "Enter an integer: r\n",
      "You didn't enter an integer.\n",
      "Finally block executed\n",
      "Enter an integer: e\n",
      "You didn't enter an integer.\n",
      "Finally block executed\n",
      "Enter an integer: q\n",
      "You didn't enter an integer.\n",
      "Finally block executed\n",
      "Enter an integer: g\n",
      "You didn't enter an integer.\n",
      "Finally block executed\n",
      "Enter an integer: 3\n",
      "Correct that is an integer.\n",
      "Finally block executed\n"
     ]
    }
   ],
   "source": [
    "askint2()"
   ]
  },
  {
   "cell_type": "code",
   "execution_count": null,
   "metadata": {
    "collapsed": true
   },
   "outputs": [],
   "source": []
  }
 ],
 "metadata": {
  "kernelspec": {
   "display_name": "Python [Root]",
   "language": "python",
   "name": "Python [Root]"
  },
  "language_info": {
   "codemirror_mode": {
    "name": "ipython",
    "version": 2
   },
   "file_extension": ".py",
   "mimetype": "text/x-python",
   "name": "python",
   "nbconvert_exporter": "python",
   "pygments_lexer": "ipython2",
   "version": "2.7.12"
  }
 },
 "nbformat": 4,
 "nbformat_minor": 0
}
